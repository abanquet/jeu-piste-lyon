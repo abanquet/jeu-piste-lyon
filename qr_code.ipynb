{
 "cells": [
  {
   "cell_type": "code",
   "execution_count": 6,
   "id": "e8d874fa",
   "metadata": {},
   "outputs": [],
   "source": [
    "import qrcode\n",
    "from unidecode import unidecode\n",
    "import os"
   ]
  },
  {
   "cell_type": "code",
   "execution_count": null,
   "id": "2c4e83e1",
   "metadata": {},
   "outputs": [],
   "source": [
    "links = {\n",
    "    \"Introduction\": \"https://abanquet.github.io/jeu-piste-lyon/\",\n",
    "    \"Fourvière\": \"https://abanquet.github.io/jeu-piste-lyon/riddles/riddle_162791\",\n",
    "    \"Amphithéâtre des Trois Gaules\": \"https://abanquet.github.io/jeu-piste-lyon/riddles/riddle_272910\",\n",
    "    \"Musée du Cinéma et de la Miniature\": \"https://abanquet.github.io/jeu-piste-lyon/riddles/riddle_387829\",\n",
    "    \"Traboules - Tour Rose\": \"https://abanquet.github.io/jeu-piste-lyon/riddles/riddle_425171\",\n",
    "    \"Place Bellecour - St Exupéry\": \"https://abanquet.github.io/jeu-piste-lyon/riddles/riddle_501920\",\n",
    "    \"Statue d'Ampère\": \"https://abanquet.github.io/jeu-piste-lyon/riddles/riddle_692001\",\n",
    "    \"Hôtel-Dieu\": \"https://abanquet.github.io/jeu-piste-lyon/riddles/riddle_756725\",\n",
    "    \"Brasserie Le Nord - Bocuse\": \"https://abanquet.github.io/jeu-piste-lyon/riddles/riddle_896752\",\n",
    "    \"Place des Terreaux\": \"https://abanquet.github.io/jeu-piste-lyon/riddles/riddle_962782\",\n",
    "    \"Fresque des Lyonnais\": \"https://abanquet.github.io/jeu-piste-lyon/riddles/riddle_final\",\n",
    "\n",
    "}"
   ]
  },
  {
   "cell_type": "code",
   "execution_count": 14,
   "id": "723f2c70",
   "metadata": {},
   "outputs": [
    {
     "name": "stdout",
     "output_type": "stream",
     "text": [
      "Introduction\n",
      "Fourvière\n",
      "Amphithéâtre des Trois Gaules\n",
      "Musée du Cinéma et de la Miniature\n"
     ]
    },
    {
     "name": "stderr",
     "output_type": "stream",
     "text": [
      "/var/folders/c1/vct6h5794fs10g7bwhmw3bbw0000gn/T/ipykernel_54166/662857491.py:15: DeprecationWarning: textsize is deprecated and will be removed in Pillow 10 (2023-07-01). Use textbbox or textlength instead.\n",
      "  text_width, text_height = draw.textsize(text, font=font)\n",
      "/var/folders/c1/vct6h5794fs10g7bwhmw3bbw0000gn/T/ipykernel_54166/662857491.py:25: DeprecationWarning: ANTIALIAS is deprecated and will be removed in Pillow 10 (2023-07-01). Use Resampling.LANCZOS instead.\n",
      "  logo = logo.resize(logo_size, Image.ANTIALIAS)\n",
      "/var/folders/c1/vct6h5794fs10g7bwhmw3bbw0000gn/T/ipykernel_54166/662857491.py:15: DeprecationWarning: textsize is deprecated and will be removed in Pillow 10 (2023-07-01). Use textbbox or textlength instead.\n",
      "  text_width, text_height = draw.textsize(text, font=font)\n",
      "/var/folders/c1/vct6h5794fs10g7bwhmw3bbw0000gn/T/ipykernel_54166/662857491.py:25: DeprecationWarning: ANTIALIAS is deprecated and will be removed in Pillow 10 (2023-07-01). Use Resampling.LANCZOS instead.\n",
      "  logo = logo.resize(logo_size, Image.ANTIALIAS)\n",
      "/var/folders/c1/vct6h5794fs10g7bwhmw3bbw0000gn/T/ipykernel_54166/662857491.py:15: DeprecationWarning: textsize is deprecated and will be removed in Pillow 10 (2023-07-01). Use textbbox or textlength instead.\n",
      "  text_width, text_height = draw.textsize(text, font=font)\n",
      "/var/folders/c1/vct6h5794fs10g7bwhmw3bbw0000gn/T/ipykernel_54166/662857491.py:25: DeprecationWarning: ANTIALIAS is deprecated and will be removed in Pillow 10 (2023-07-01). Use Resampling.LANCZOS instead.\n",
      "  logo = logo.resize(logo_size, Image.ANTIALIAS)\n",
      "/var/folders/c1/vct6h5794fs10g7bwhmw3bbw0000gn/T/ipykernel_54166/662857491.py:15: DeprecationWarning: textsize is deprecated and will be removed in Pillow 10 (2023-07-01). Use textbbox or textlength instead.\n",
      "  text_width, text_height = draw.textsize(text, font=font)\n",
      "/var/folders/c1/vct6h5794fs10g7bwhmw3bbw0000gn/T/ipykernel_54166/662857491.py:25: DeprecationWarning: ANTIALIAS is deprecated and will be removed in Pillow 10 (2023-07-01). Use Resampling.LANCZOS instead.\n",
      "  logo = logo.resize(logo_size, Image.ANTIALIAS)\n",
      "/var/folders/c1/vct6h5794fs10g7bwhmw3bbw0000gn/T/ipykernel_54166/662857491.py:15: DeprecationWarning: textsize is deprecated and will be removed in Pillow 10 (2023-07-01). Use textbbox or textlength instead.\n",
      "  text_width, text_height = draw.textsize(text, font=font)\n",
      "/var/folders/c1/vct6h5794fs10g7bwhmw3bbw0000gn/T/ipykernel_54166/662857491.py:25: DeprecationWarning: ANTIALIAS is deprecated and will be removed in Pillow 10 (2023-07-01). Use Resampling.LANCZOS instead.\n",
      "  logo = logo.resize(logo_size, Image.ANTIALIAS)\n",
      "/var/folders/c1/vct6h5794fs10g7bwhmw3bbw0000gn/T/ipykernel_54166/662857491.py:15: DeprecationWarning: textsize is deprecated and will be removed in Pillow 10 (2023-07-01). Use textbbox or textlength instead.\n",
      "  text_width, text_height = draw.textsize(text, font=font)\n",
      "/var/folders/c1/vct6h5794fs10g7bwhmw3bbw0000gn/T/ipykernel_54166/662857491.py:25: DeprecationWarning: ANTIALIAS is deprecated and will be removed in Pillow 10 (2023-07-01). Use Resampling.LANCZOS instead.\n",
      "  logo = logo.resize(logo_size, Image.ANTIALIAS)\n"
     ]
    },
    {
     "name": "stdout",
     "output_type": "stream",
     "text": [
      "Traboules - Tour Rose\n",
      "Place Bellecour - St Exupéry\n",
      "Statue d'Ampère\n",
      "Brasserie Le Nord - Bocuse\n"
     ]
    },
    {
     "name": "stderr",
     "output_type": "stream",
     "text": [
      "/var/folders/c1/vct6h5794fs10g7bwhmw3bbw0000gn/T/ipykernel_54166/662857491.py:15: DeprecationWarning: textsize is deprecated and will be removed in Pillow 10 (2023-07-01). Use textbbox or textlength instead.\n",
      "  text_width, text_height = draw.textsize(text, font=font)\n",
      "/var/folders/c1/vct6h5794fs10g7bwhmw3bbw0000gn/T/ipykernel_54166/662857491.py:25: DeprecationWarning: ANTIALIAS is deprecated and will be removed in Pillow 10 (2023-07-01). Use Resampling.LANCZOS instead.\n",
      "  logo = logo.resize(logo_size, Image.ANTIALIAS)\n",
      "/var/folders/c1/vct6h5794fs10g7bwhmw3bbw0000gn/T/ipykernel_54166/662857491.py:15: DeprecationWarning: textsize is deprecated and will be removed in Pillow 10 (2023-07-01). Use textbbox or textlength instead.\n",
      "  text_width, text_height = draw.textsize(text, font=font)\n",
      "/var/folders/c1/vct6h5794fs10g7bwhmw3bbw0000gn/T/ipykernel_54166/662857491.py:25: DeprecationWarning: ANTIALIAS is deprecated and will be removed in Pillow 10 (2023-07-01). Use Resampling.LANCZOS instead.\n",
      "  logo = logo.resize(logo_size, Image.ANTIALIAS)\n"
     ]
    }
   ],
   "source": [
    "from PIL import Image, ImageDraw, ImageFont\n",
    "\n",
    "for name, link in links.items():\n",
    "    print(name)\n",
    "    img = qrcode.make(link)\n",
    "    # Create a new image with black background\n",
    "    width, height = img.size\n",
    "    new_img = Image.new(\"RGB\", (width, height + 50), \"black\")\n",
    "    new_img.paste(img, (0, 0))\n",
    "\n",
    "    # Add text below the QR code\n",
    "    draw = ImageDraw.Draw(new_img)\n",
    "    font = ImageFont.load_default()  # Use default font\n",
    "    text = f\"{name}\"\n",
    "    text_width, text_height = draw.textsize(text, font=font)\n",
    "    text_x = (width - text_width) // 2\n",
    "    text_y = height + (50 - text_height) // 2\n",
    "    draw.text((text_x, text_y), text, fill=\"white\", font=font)\n",
    "\n",
    "    # Add logo to the center of the QR code\n",
    "    logo_path = \"logo_lyon_express.png\"\n",
    "    if os.path.exists(logo_path):\n",
    "        logo = Image.open(logo_path)\n",
    "        logo_size = (width // 5, height // 5)  # Resize logo to 1/5th of the QR code size\n",
    "        logo = logo.resize(logo_size, Image.ANTIALIAS)\n",
    "        logo_x = (width - logo_size[0]) // 2\n",
    "        logo_y = (height - logo_size[1]) // 2\n",
    "        new_img.paste(logo, (logo_x, logo_y), mask=logo.convert(\"RGBA\"))\n",
    "\n",
    "    # Replace the original image with the new one\n",
    "    img = new_img\n",
    "    os.makedirs(\"qr_codes\", exist_ok=True)\n",
    "    img.save(f\"qr_codes/{unidecode(name).replace(' ', '_').lower()}.png\")"
   ]
  },
  {
   "cell_type": "code",
   "execution_count": null,
   "id": "57cff973",
   "metadata": {},
   "outputs": [
    {
     "ename": "AttributeError",
     "evalue": "values",
     "output_type": "error",
     "traceback": [
      "\u001b[0;31m---------------------------------------------------------------------------\u001b[0m",
      "\u001b[0;31mAttributeError\u001b[0m                            Traceback (most recent call last)",
      "Input \u001b[0;32mIn [11]\u001b[0m, in \u001b[0;36m<cell line: 1>\u001b[0;34m()\u001b[0m\n\u001b[0;32m----> 1\u001b[0m \u001b[43mimg\u001b[49m\u001b[38;5;241;43m.\u001b[39;49m\u001b[43mvalues\u001b[49m\n",
      "File \u001b[0;32m~/anaconda3/envs/geo/lib/python3.9/site-packages/PIL/Image.py:517\u001b[0m, in \u001b[0;36mImage.__getattr__\u001b[0;34m(self, name)\u001b[0m\n\u001b[1;32m    515\u001b[0m     deprecate(\u001b[38;5;124m\"\u001b[39m\u001b[38;5;124mImage categories\u001b[39m\u001b[38;5;124m\"\u001b[39m, \u001b[38;5;241m10\u001b[39m, \u001b[38;5;124m\"\u001b[39m\u001b[38;5;124mis_animated\u001b[39m\u001b[38;5;124m\"\u001b[39m, plural\u001b[38;5;241m=\u001b[39m\u001b[38;5;28;01mTrue\u001b[39;00m)\n\u001b[1;32m    516\u001b[0m     \u001b[38;5;28;01mreturn\u001b[39;00m \u001b[38;5;28mself\u001b[39m\u001b[38;5;241m.\u001b[39m_category\n\u001b[0;32m--> 517\u001b[0m \u001b[38;5;28;01mraise\u001b[39;00m \u001b[38;5;167;01mAttributeError\u001b[39;00m(name)\n",
      "\u001b[0;31mAttributeError\u001b[0m: values"
     ]
    }
   ],
   "source": []
  },
  {
   "cell_type": "code",
   "execution_count": null,
   "id": "21f03c02",
   "metadata": {},
   "outputs": [],
   "source": []
  }
 ],
 "metadata": {
  "kernelspec": {
   "display_name": "geo",
   "language": "python",
   "name": "python3"
  },
  "language_info": {
   "codemirror_mode": {
    "name": "ipython",
    "version": 3
   },
   "file_extension": ".py",
   "mimetype": "text/x-python",
   "name": "python",
   "nbconvert_exporter": "python",
   "pygments_lexer": "ipython3",
   "version": "3.9.7"
  }
 },
 "nbformat": 4,
 "nbformat_minor": 5
}
