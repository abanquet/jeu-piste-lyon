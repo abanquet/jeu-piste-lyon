{
 "cells": [
  {
   "cell_type": "code",
   "execution_count": 6,
   "id": "e8d874fa",
   "metadata": {},
   "outputs": [],
   "source": [
    "import qrcode\n",
    "from unidecode import unidecode\n",
    "import os"
   ]
  },
  {
   "cell_type": "code",
   "execution_count": 15,
   "id": "2c4e83e1",
   "metadata": {},
   "outputs": [],
   "source": [
    "links = {\n",
    "    \"Introduction\": \"https://abanquet.github.io/jeu-piste-lyon/\",\n",
    "    \"Fourvière\": \"https://abanquet.github.io/jeu-piste-lyon/riddles/riddle_162791\",\n",
    "    \"Amphithéâtre des Trois Gaules\": \"https://abanquet.github.io/jeu-piste-lyon/riddles/riddle_272910\",\n",
    "    \"Musée du Cinéma et de la Miniature\": \"https://abanquet.github.io/jeu-piste-lyon/riddles/riddle_387829\",\n",
    "    \"Traboules - Tour Rose\": \"https://abanquet.github.io/jeu-piste-lyon/riddles/riddle_425171\",\n",
    "    \"Place Bellecour - St Exupéry\": \"https://abanquet.github.io/jeu-piste-lyon/riddles/riddle_501920\",\n",
    "    \"Statue d'Ampère\": \"https://abanquet.github.io/jeu-piste-lyon/riddles/riddle_692001\",\n",
    "    \"Hôtel-Dieu\": \"https://abanquet.github.io/jeu-piste-lyon/riddles/riddle_756725\",\n",
    "    \"Brasserie Le Nord - Bocuse\": \"https://abanquet.github.io/jeu-piste-lyon/riddles/riddle_896752\",\n",
    "    \"Place des Terreaux\": \"https://abanquet.github.io/jeu-piste-lyon/riddles/riddle_962782\",\n",
    "    \"Fresque des Lyonnais\": \"https://abanquet.github.io/jeu-piste-lyon/riddles/riddle_final\",\n",
    "\n",
    "}"
   ]
  },
  {
   "cell_type": "code",
   "execution_count": 16,
   "id": "723f2c70",
   "metadata": {},
   "outputs": [
    {
     "name": "stdout",
     "output_type": "stream",
     "text": [
      "Introduction\n",
      "Fourvière\n",
      "Amphithéâtre des Trois Gaules\n",
      "Musée du Cinéma et de la Miniature\n"
     ]
    },
    {
     "name": "stderr",
     "output_type": "stream",
     "text": [
      "/var/folders/c1/vct6h5794fs10g7bwhmw3bbw0000gn/T/ipykernel_54166/662857491.py:15: DeprecationWarning: textsize is deprecated and will be removed in Pillow 10 (2023-07-01). Use textbbox or textlength instead.\n",
      "  text_width, text_height = draw.textsize(text, font=font)\n",
      "/var/folders/c1/vct6h5794fs10g7bwhmw3bbw0000gn/T/ipykernel_54166/662857491.py:25: DeprecationWarning: ANTIALIAS is deprecated and will be removed in Pillow 10 (2023-07-01). Use Resampling.LANCZOS instead.\n",
      "  logo = logo.resize(logo_size, Image.ANTIALIAS)\n",
      "/var/folders/c1/vct6h5794fs10g7bwhmw3bbw0000gn/T/ipykernel_54166/662857491.py:15: DeprecationWarning: textsize is deprecated and will be removed in Pillow 10 (2023-07-01). Use textbbox or textlength instead.\n",
      "  text_width, text_height = draw.textsize(text, font=font)\n",
      "/var/folders/c1/vct6h5794fs10g7bwhmw3bbw0000gn/T/ipykernel_54166/662857491.py:25: DeprecationWarning: ANTIALIAS is deprecated and will be removed in Pillow 10 (2023-07-01). Use Resampling.LANCZOS instead.\n",
      "  logo = logo.resize(logo_size, Image.ANTIALIAS)\n",
      "/var/folders/c1/vct6h5794fs10g7bwhmw3bbw0000gn/T/ipykernel_54166/662857491.py:15: DeprecationWarning: textsize is deprecated and will be removed in Pillow 10 (2023-07-01). Use textbbox or textlength instead.\n",
      "  text_width, text_height = draw.textsize(text, font=font)\n",
      "/var/folders/c1/vct6h5794fs10g7bwhmw3bbw0000gn/T/ipykernel_54166/662857491.py:25: DeprecationWarning: ANTIALIAS is deprecated and will be removed in Pillow 10 (2023-07-01). Use Resampling.LANCZOS instead.\n",
      "  logo = logo.resize(logo_size, Image.ANTIALIAS)\n",
      "/var/folders/c1/vct6h5794fs10g7bwhmw3bbw0000gn/T/ipykernel_54166/662857491.py:15: DeprecationWarning: textsize is deprecated and will be removed in Pillow 10 (2023-07-01). Use textbbox or textlength instead.\n",
      "  text_width, text_height = draw.textsize(text, font=font)\n",
      "/var/folders/c1/vct6h5794fs10g7bwhmw3bbw0000gn/T/ipykernel_54166/662857491.py:25: DeprecationWarning: ANTIALIAS is deprecated and will be removed in Pillow 10 (2023-07-01). Use Resampling.LANCZOS instead.\n",
      "  logo = logo.resize(logo_size, Image.ANTIALIAS)\n",
      "/var/folders/c1/vct6h5794fs10g7bwhmw3bbw0000gn/T/ipykernel_54166/662857491.py:15: DeprecationWarning: textsize is deprecated and will be removed in Pillow 10 (2023-07-01). Use textbbox or textlength instead.\n",
      "  text_width, text_height = draw.textsize(text, font=font)\n",
      "/var/folders/c1/vct6h5794fs10g7bwhmw3bbw0000gn/T/ipykernel_54166/662857491.py:25: DeprecationWarning: ANTIALIAS is deprecated and will be removed in Pillow 10 (2023-07-01). Use Resampling.LANCZOS instead.\n",
      "  logo = logo.resize(logo_size, Image.ANTIALIAS)\n",
      "/var/folders/c1/vct6h5794fs10g7bwhmw3bbw0000gn/T/ipykernel_54166/662857491.py:15: DeprecationWarning: textsize is deprecated and will be removed in Pillow 10 (2023-07-01). Use textbbox or textlength instead.\n",
      "  text_width, text_height = draw.textsize(text, font=font)\n",
      "/var/folders/c1/vct6h5794fs10g7bwhmw3bbw0000gn/T/ipykernel_54166/662857491.py:25: DeprecationWarning: ANTIALIAS is deprecated and will be removed in Pillow 10 (2023-07-01). Use Resampling.LANCZOS instead.\n",
      "  logo = logo.resize(logo_size, Image.ANTIALIAS)\n"
     ]
    },
    {
     "name": "stdout",
     "output_type": "stream",
     "text": [
      "Traboules - Tour Rose\n",
      "Place Bellecour - St Exupéry\n",
      "Statue d'Ampère\n"
     ]
    },
    {
     "name": "stderr",
     "output_type": "stream",
     "text": [
      "/var/folders/c1/vct6h5794fs10g7bwhmw3bbw0000gn/T/ipykernel_54166/662857491.py:15: DeprecationWarning: textsize is deprecated and will be removed in Pillow 10 (2023-07-01). Use textbbox or textlength instead.\n",
      "  text_width, text_height = draw.textsize(text, font=font)\n",
      "/var/folders/c1/vct6h5794fs10g7bwhmw3bbw0000gn/T/ipykernel_54166/662857491.py:25: DeprecationWarning: ANTIALIAS is deprecated and will be removed in Pillow 10 (2023-07-01). Use Resampling.LANCZOS instead.\n",
      "  logo = logo.resize(logo_size, Image.ANTIALIAS)\n",
      "/var/folders/c1/vct6h5794fs10g7bwhmw3bbw0000gn/T/ipykernel_54166/662857491.py:15: DeprecationWarning: textsize is deprecated and will be removed in Pillow 10 (2023-07-01). Use textbbox or textlength instead.\n",
      "  text_width, text_height = draw.textsize(text, font=font)\n",
      "/var/folders/c1/vct6h5794fs10g7bwhmw3bbw0000gn/T/ipykernel_54166/662857491.py:25: DeprecationWarning: ANTIALIAS is deprecated and will be removed in Pillow 10 (2023-07-01). Use Resampling.LANCZOS instead.\n",
      "  logo = logo.resize(logo_size, Image.ANTIALIAS)\n"
     ]
    },
    {
     "name": "stdout",
     "output_type": "stream",
     "text": [
      "Hôtel-Dieu\n",
      "Brasserie Le Nord - Bocuse\n",
      "Place des Terreaux\n"
     ]
    },
    {
     "name": "stderr",
     "output_type": "stream",
     "text": [
      "/var/folders/c1/vct6h5794fs10g7bwhmw3bbw0000gn/T/ipykernel_54166/662857491.py:15: DeprecationWarning: textsize is deprecated and will be removed in Pillow 10 (2023-07-01). Use textbbox or textlength instead.\n",
      "  text_width, text_height = draw.textsize(text, font=font)\n",
      "/var/folders/c1/vct6h5794fs10g7bwhmw3bbw0000gn/T/ipykernel_54166/662857491.py:25: DeprecationWarning: ANTIALIAS is deprecated and will be removed in Pillow 10 (2023-07-01). Use Resampling.LANCZOS instead.\n",
      "  logo = logo.resize(logo_size, Image.ANTIALIAS)\n",
      "/var/folders/c1/vct6h5794fs10g7bwhmw3bbw0000gn/T/ipykernel_54166/662857491.py:15: DeprecationWarning: textsize is deprecated and will be removed in Pillow 10 (2023-07-01). Use textbbox or textlength instead.\n",
      "  text_width, text_height = draw.textsize(text, font=font)\n",
      "/var/folders/c1/vct6h5794fs10g7bwhmw3bbw0000gn/T/ipykernel_54166/662857491.py:25: DeprecationWarning: ANTIALIAS is deprecated and will be removed in Pillow 10 (2023-07-01). Use Resampling.LANCZOS instead.\n",
      "  logo = logo.resize(logo_size, Image.ANTIALIAS)\n"
     ]
    },
    {
     "name": "stdout",
     "output_type": "stream",
     "text": [
      "Fresque des Lyonnais\n"
     ]
    },
    {
     "name": "stderr",
     "output_type": "stream",
     "text": [
      "/var/folders/c1/vct6h5794fs10g7bwhmw3bbw0000gn/T/ipykernel_54166/662857491.py:15: DeprecationWarning: textsize is deprecated and will be removed in Pillow 10 (2023-07-01). Use textbbox or textlength instead.\n",
      "  text_width, text_height = draw.textsize(text, font=font)\n",
      "/var/folders/c1/vct6h5794fs10g7bwhmw3bbw0000gn/T/ipykernel_54166/662857491.py:25: DeprecationWarning: ANTIALIAS is deprecated and will be removed in Pillow 10 (2023-07-01). Use Resampling.LANCZOS instead.\n",
      "  logo = logo.resize(logo_size, Image.ANTIALIAS)\n"
     ]
    }
   ],
   "source": [
    "from PIL import Image, ImageDraw, ImageFont\n",
    "\n",
    "for name, link in links.items():\n",
    "    print(name)\n",
    "    img = qrcode.make(link)\n",
    "    # Create a new image with black background\n",
    "    width, height = img.size\n",
    "    new_img = Image.new(\"RGB\", (width, height + 50), \"black\")\n",
    "    new_img.paste(img, (0, 0))\n",
    "\n",
    "    # Add text below the QR code\n",
    "    draw = ImageDraw.Draw(new_img)\n",
    "    font = ImageFont.load_default()  # Use default font\n",
    "    text = f\"{name}\"\n",
    "    text_width, text_height = draw.textsize(text, font=font)\n",
    "    text_x = (width - text_width) // 2\n",
    "    text_y = height + (50 - text_height) // 2\n",
    "    draw.text((text_x, text_y), text, fill=\"white\", font=font)\n",
    "\n",
    "    # Add logo to the center of the QR code\n",
    "    logo_path = \"logo_lyon_express.png\"\n",
    "    if os.path.exists(logo_path):\n",
    "        logo = Image.open(logo_path)\n",
    "        logo_size = (width // 5, height // 5)  # Resize logo to 1/5th of the QR code size\n",
    "        logo = logo.resize(logo_size, Image.ANTIALIAS)\n",
    "        logo_x = (width - logo_size[0]) // 2\n",
    "        logo_y = (height - logo_size[1]) // 2\n",
    "        new_img.paste(logo, (logo_x, logo_y), mask=logo.convert(\"RGBA\"))\n",
    "\n",
    "    # Replace the original image with the new one\n",
    "    img = new_img\n",
    "    os.makedirs(\"qr_codes\", exist_ok=True)\n",
    "    img.save(f\"qr_codes/{unidecode(name).replace(' ', '_').lower()}.png\")"
   ]
  }
 ],
 "metadata": {
  "kernelspec": {
   "display_name": "geo",
   "language": "python",
   "name": "python3"
  },
  "language_info": {
   "codemirror_mode": {
    "name": "ipython",
    "version": 3
   },
   "file_extension": ".py",
   "mimetype": "text/x-python",
   "name": "python",
   "nbconvert_exporter": "python",
   "pygments_lexer": "ipython3",
   "version": "3.9.7"
  }
 },
 "nbformat": 4,
 "nbformat_minor": 5
}
